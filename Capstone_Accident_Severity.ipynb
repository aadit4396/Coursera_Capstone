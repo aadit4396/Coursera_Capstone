{
    "cells": [
        {
            "cell_type": "markdown",
            "metadata": {
                "collapsed": true
            },
            "source": "# Capstone Project - Accident Severity Prediction"
        },
        {
            "cell_type": "markdown",
            "metadata": {},
            "source": "#### Applied Data Science Project By Coursera"
        },
        {
            "cell_type": "markdown",
            "metadata": {},
            "source": "### Table of Contents\n- Introduction\n- Data Undersatnding\n- Methodolgy\n- Results and Discussion\n- Conclusion"
        },
        {
            "cell_type": "markdown",
            "metadata": {},
            "source": "## Introduction: Business Problem"
        },
        {
            "cell_type": "markdown",
            "metadata": {},
            "source": "There are a lot of accidents which can be avoided by making people aware of certain accident prone areas. So, to reduce the frequency of vehicle collisions, an alogorithm or a model must be developed to predict the severity of an accident given the current weather, road condtions, street lights conditions. By doing so we can alert the drivers before hand so as to be more carefull and drive accordingly if the model predicts high severity. Hence, reducing the frequency of accidents in the community and saving the lives of people. This model targets all the people in the community."
        },
        {
            "cell_type": "markdown",
            "metadata": {},
            "source": "## Data Understanding"
        },
        {
            "cell_type": "markdown",
            "metadata": {},
            "source": "The dataset we will be using contains of many instances of collisions under different situations. The target variable in our dataset is severity code. The predicted value of severity code will help us determine the areas which will be more accident prone on the day. The model will predict the target with the help of features that are in the dataset. The features available are Light conditions, weather conditions, Road conditions and many more. The dataset has 37 columns or featues of which we will decide the relevant features and build our model on these features."
        },
        {
            "cell_type": "code",
            "execution_count": 24,
            "metadata": {},
            "outputs": [],
            "source": "import pandas as pd\nimport numpy as np\nimport seaborn as sns\nimport matplotlib.pyplot as plt\nimport warnings\nwarnings.filterwarnings('ignore')"
        },
        {
            "cell_type": "code",
            "execution_count": 25,
            "metadata": {},
            "outputs": [
                {
                    "data": {
                        "text/html": "<div>\n<style scoped>\n    .dataframe tbody tr th:only-of-type {\n        vertical-align: middle;\n    }\n\n    .dataframe tbody tr th {\n        vertical-align: top;\n    }\n\n    .dataframe thead th {\n        text-align: right;\n    }\n</style>\n<table border=\"1\" class=\"dataframe\">\n  <thead>\n    <tr style=\"text-align: right;\">\n      <th></th>\n      <th>SEVERITYCODE</th>\n      <th>X</th>\n      <th>Y</th>\n      <th>OBJECTID</th>\n      <th>INCKEY</th>\n      <th>COLDETKEY</th>\n      <th>REPORTNO</th>\n      <th>STATUS</th>\n      <th>ADDRTYPE</th>\n      <th>INTKEY</th>\n      <th>...</th>\n      <th>ROADCOND</th>\n      <th>LIGHTCOND</th>\n      <th>PEDROWNOTGRNT</th>\n      <th>SDOTCOLNUM</th>\n      <th>SPEEDING</th>\n      <th>ST_COLCODE</th>\n      <th>ST_COLDESC</th>\n      <th>SEGLANEKEY</th>\n      <th>CROSSWALKKEY</th>\n      <th>HITPARKEDCAR</th>\n    </tr>\n  </thead>\n  <tbody>\n    <tr>\n      <th>194668</th>\n      <td>2</td>\n      <td>-122.290826</td>\n      <td>47.565408</td>\n      <td>219543</td>\n      <td>309534</td>\n      <td>310814</td>\n      <td>E871089</td>\n      <td>Matched</td>\n      <td>Block</td>\n      <td>NaN</td>\n      <td>...</td>\n      <td>Dry</td>\n      <td>Daylight</td>\n      <td>NaN</td>\n      <td>NaN</td>\n      <td>NaN</td>\n      <td>24</td>\n      <td>From opposite direction - both moving - head-on</td>\n      <td>0</td>\n      <td>0</td>\n      <td>N</td>\n    </tr>\n    <tr>\n      <th>194669</th>\n      <td>1</td>\n      <td>-122.344526</td>\n      <td>47.690924</td>\n      <td>219544</td>\n      <td>309085</td>\n      <td>310365</td>\n      <td>E876731</td>\n      <td>Matched</td>\n      <td>Block</td>\n      <td>NaN</td>\n      <td>...</td>\n      <td>Wet</td>\n      <td>Daylight</td>\n      <td>NaN</td>\n      <td>NaN</td>\n      <td>NaN</td>\n      <td>13</td>\n      <td>From same direction - both going straight - bo...</td>\n      <td>0</td>\n      <td>0</td>\n      <td>N</td>\n    </tr>\n    <tr>\n      <th>194670</th>\n      <td>2</td>\n      <td>-122.306689</td>\n      <td>47.683047</td>\n      <td>219545</td>\n      <td>311280</td>\n      <td>312640</td>\n      <td>3809984</td>\n      <td>Matched</td>\n      <td>Intersection</td>\n      <td>24760.0</td>\n      <td>...</td>\n      <td>Dry</td>\n      <td>Daylight</td>\n      <td>NaN</td>\n      <td>NaN</td>\n      <td>NaN</td>\n      <td>28</td>\n      <td>From opposite direction - one left turn - one ...</td>\n      <td>0</td>\n      <td>0</td>\n      <td>N</td>\n    </tr>\n    <tr>\n      <th>194671</th>\n      <td>2</td>\n      <td>-122.355317</td>\n      <td>47.678734</td>\n      <td>219546</td>\n      <td>309514</td>\n      <td>310794</td>\n      <td>3810083</td>\n      <td>Matched</td>\n      <td>Intersection</td>\n      <td>24349.0</td>\n      <td>...</td>\n      <td>Dry</td>\n      <td>Dusk</td>\n      <td>NaN</td>\n      <td>NaN</td>\n      <td>NaN</td>\n      <td>5</td>\n      <td>Vehicle Strikes Pedalcyclist</td>\n      <td>4308</td>\n      <td>0</td>\n      <td>N</td>\n    </tr>\n    <tr>\n      <th>194672</th>\n      <td>1</td>\n      <td>-122.289360</td>\n      <td>47.611017</td>\n      <td>219547</td>\n      <td>308220</td>\n      <td>309500</td>\n      <td>E868008</td>\n      <td>Matched</td>\n      <td>Block</td>\n      <td>NaN</td>\n      <td>...</td>\n      <td>Wet</td>\n      <td>Daylight</td>\n      <td>NaN</td>\n      <td>NaN</td>\n      <td>NaN</td>\n      <td>14</td>\n      <td>From same direction - both going straight - on...</td>\n      <td>0</td>\n      <td>0</td>\n      <td>N</td>\n    </tr>\n  </tbody>\n</table>\n<p>5 rows \u00d7 38 columns</p>\n</div>",
                        "text/plain": "        SEVERITYCODE           X          Y  OBJECTID  INCKEY  COLDETKEY  \\\n194668             2 -122.290826  47.565408    219543  309534     310814   \n194669             1 -122.344526  47.690924    219544  309085     310365   \n194670             2 -122.306689  47.683047    219545  311280     312640   \n194671             2 -122.355317  47.678734    219546  309514     310794   \n194672             1 -122.289360  47.611017    219547  308220     309500   \n\n       REPORTNO   STATUS      ADDRTYPE   INTKEY  ... ROADCOND LIGHTCOND  \\\n194668  E871089  Matched         Block      NaN  ...      Dry  Daylight   \n194669  E876731  Matched         Block      NaN  ...      Wet  Daylight   \n194670  3809984  Matched  Intersection  24760.0  ...      Dry  Daylight   \n194671  3810083  Matched  Intersection  24349.0  ...      Dry      Dusk   \n194672  E868008  Matched         Block      NaN  ...      Wet  Daylight   \n\n       PEDROWNOTGRNT  SDOTCOLNUM SPEEDING ST_COLCODE  \\\n194668           NaN         NaN      NaN         24   \n194669           NaN         NaN      NaN         13   \n194670           NaN         NaN      NaN         28   \n194671           NaN         NaN      NaN          5   \n194672           NaN         NaN      NaN         14   \n\n                                               ST_COLDESC  SEGLANEKEY  \\\n194668    From opposite direction - both moving - head-on           0   \n194669  From same direction - both going straight - bo...           0   \n194670  From opposite direction - one left turn - one ...           0   \n194671                       Vehicle Strikes Pedalcyclist        4308   \n194672  From same direction - both going straight - on...           0   \n\n        CROSSWALKKEY  HITPARKEDCAR  \n194668             0             N  \n194669             0             N  \n194670             0             N  \n194671             0             N  \n194672             0             N  \n\n[5 rows x 38 columns]"
                    },
                    "execution_count": 25,
                    "metadata": {},
                    "output_type": "execute_result"
                }
            ],
            "source": "df = pd.read_csv('https://s3.us.cloud-object-storage.appdomain.cloud/cf-courses-data/CognitiveClass/DP0701EN/version-2/Data-Collisions.csv')\ndf.tail()"
        },
        {
            "cell_type": "code",
            "execution_count": 26,
            "metadata": {},
            "outputs": [
                {
                    "data": {
                        "text/plain": "(194673, 38)"
                    },
                    "execution_count": 26,
                    "metadata": {},
                    "output_type": "execute_result"
                }
            ],
            "source": "df.shape"
        },
        {
            "cell_type": "code",
            "execution_count": 27,
            "metadata": {},
            "outputs": [
                {
                    "data": {
                        "text/plain": "1    136485\n2     58188\nName: SEVERITYCODE, dtype: int64"
                    },
                    "execution_count": 27,
                    "metadata": {},
                    "output_type": "execute_result"
                }
            ],
            "source": "df['SEVERITYCODE'].value_counts()"
        },
        {
            "cell_type": "code",
            "execution_count": 28,
            "metadata": {},
            "outputs": [
                {
                    "data": {
                        "text/plain": "<matplotlib.axes._subplots.AxesSubplot at 0x7efdc2cd0358>"
                    },
                    "execution_count": 28,
                    "metadata": {},
                    "output_type": "execute_result"
                },
                {
                    "data": {
                        "image/png": "[encoded data removed]",
                        "text/plain": "<Figure size 432x288 with 1 Axes>"
                    },
                    "metadata": {
                        "needs_background": "light"
                    },
                    "output_type": "display_data"
                }
            ],
            "source": "df['SEVERITYCODE'].value_counts().plot(kind='bar', title='Count (SEVERITYCODE)')"
        },
        {
            "cell_type": "markdown",
            "metadata": {},
            "source": "###### We observe that the data is imbalanced. In this section we will work with imbalanced data and in the next we will sample and work with balanced data and observe the difference."
        },
        {
            "cell_type": "code",
            "execution_count": 29,
            "metadata": {},
            "outputs": [
                {
                    "data": {
                        "text/plain": "SEVERITYCODE           0\nX                   5334\nY                   5334\nOBJECTID               0\nINCKEY                 0\nCOLDETKEY              0\nREPORTNO               0\nSTATUS                 0\nADDRTYPE            1926\nINTKEY            129603\nLOCATION            2677\nEXCEPTRSNCODE     109862\nEXCEPTRSNDESC     189035\nSEVERITYCODE.1         0\nSEVERITYDESC           0\nCOLLISIONTYPE       4904\nPERSONCOUNT            0\nPEDCOUNT               0\nPEDCYLCOUNT            0\nVEHCOUNT               0\nINCDATE                0\nINCDTTM                0\nJUNCTIONTYPE        6329\nSDOT_COLCODE           0\nSDOT_COLDESC           0\nINATTENTIONIND    164868\nUNDERINFL           4884\nWEATHER             5081\nROADCOND            5012\nLIGHTCOND           5170\nPEDROWNOTGRNT     190006\nSDOTCOLNUM         79737\nSPEEDING          185340\nST_COLCODE            18\nST_COLDESC          4904\nSEGLANEKEY             0\nCROSSWALKKEY           0\nHITPARKEDCAR           0\ndtype: int64"
                    },
                    "execution_count": 29,
                    "metadata": {},
                    "output_type": "execute_result"
                }
            ],
            "source": "df.isnull().sum()"
        },
        {
            "cell_type": "code",
            "execution_count": 30,
            "metadata": {},
            "outputs": [],
            "source": "# We observe that SPEEDING has a lot of values as zeros so despite it being an important feature we will drop it from our features.\ndf.drop([\"SPEEDING\"], axis = 1, inplace=True)\n"
        },
        {
            "cell_type": "markdown",
            "metadata": {},
            "source": "##### The features that are important and relevant for our prediction are ROADCOND, LIGHTCOND, WEATHER. So, we will build our models with these features. "
        },
        {
            "cell_type": "code",
            "execution_count": 31,
            "metadata": {},
            "outputs": [
                {
                    "data": {
                        "text/plain": "Clear                       111135\nRaining                      33145\nOvercast                     27714\nUnknown                      15091\nSnowing                        907\nOther                          832\nFog/Smog/Smoke                 569\nSleet/Hail/Freezing Rain       113\nBlowing Sand/Dirt               56\nSevere Crosswind                25\nPartly Cloudy                    5\nName: WEATHER, dtype: int64"
                    },
                    "execution_count": 31,
                    "metadata": {},
                    "output_type": "execute_result"
                }
            ],
            "source": "df['WEATHER'].value_counts()"
        },
        {
            "cell_type": "code",
            "execution_count": 32,
            "metadata": {},
            "outputs": [
                {
                    "data": {
                        "text/plain": "Dry               124510\nWet                47474\nUnknown            15078\nIce                 1209\nSnow/Slush          1004\nOther                132\nStanding Water       115\nSand/Mud/Dirt         75\nOil                   64\nName: ROADCOND, dtype: int64"
                    },
                    "execution_count": 32,
                    "metadata": {},
                    "output_type": "execute_result"
                }
            ],
            "source": "df['ROADCOND'].value_counts()"
        },
        {
            "cell_type": "code",
            "execution_count": 33,
            "metadata": {},
            "outputs": [
                {
                    "data": {
                        "text/plain": "Daylight                    116137\nDark - Street Lights On      48507\nUnknown                      13473\nDusk                          5902\nDawn                          2502\nDark - No Street Lights       1537\nDark - Street Lights Off      1199\nOther                          235\nDark - Unknown Lighting         11\nName: LIGHTCOND, dtype: int64"
                    },
                    "execution_count": 33,
                    "metadata": {},
                    "output_type": "execute_result"
                }
            ],
            "source": "df['LIGHTCOND'].value_counts()"
        },
        {
            "cell_type": "markdown",
            "metadata": {},
            "source": "### Methodology"
        },
        {
            "cell_type": "code",
            "execution_count": 34,
            "metadata": {},
            "outputs": [
                {
                    "data": {
                        "text/plain": "(175216, 37)"
                    },
                    "execution_count": 34,
                    "metadata": {},
                    "output_type": "execute_result"
                }
            ],
            "source": "#Removing the irrelevant values from our features\n\ndf = df[df['ROADCOND']!= 'Unknown']\ndf = df[df['ROADCOND']!= 'Other']\ndf = df[df['LIGHTCOND']!= 'Unknown']\ndf = df[df['LIGHTCOND']!= 'Other']\ndf = df[df['WEATHER']!= 'Unknown']\ndf = df[df['WEATHER']!= 'Other']\ndf.shape\n"
        },
        {
            "cell_type": "code",
            "execution_count": 35,
            "metadata": {},
            "outputs": [],
            "source": "#One hot encoding for the fetaure \"ROADCOND\"\ndf['ROADCOND'].replace('Dry', 0, inplace=True)\ndf['ROADCOND'].replace('Wet', 2, inplace=True)\ndf['ROADCOND'].replace('Ice', 2, inplace=True)\ndf['ROADCOND'].replace('Snow/Slush', 1, inplace=True)\ndf['ROADCOND'].replace('Standing Water', 2, inplace=True)\ndf['ROADCOND'].replace('Sand/Mud/Dirt', 1, inplace=True)\ndf['ROADCOND'].replace('Oil', 2, inplace=True)"
        },
        {
            "cell_type": "code",
            "execution_count": 36,
            "metadata": {},
            "outputs": [],
            "source": "#One hot encoding for the fetaure \"LIGHTCOND\"\ndf['LIGHTCOND'].replace('Daylight', 0, inplace=True)\ndf['LIGHTCOND'].replace('Dark - Street Lights On', 1, inplace=True)\ndf['LIGHTCOND'].replace('Dusk', 1, inplace=True)\ndf['LIGHTCOND'].replace('Dawn', 1, inplace=True)\ndf['LIGHTCOND'].replace('Dark - No Street Lights', 2, inplace=True)\ndf['LIGHTCOND'].replace('Dark - Street Lights Off', 2, inplace=True)\ndf['LIGHTCOND'].replace('Dark - Unknown Lighting', 2, inplace=True)"
        },
        {
            "cell_type": "code",
            "execution_count": 37,
            "metadata": {},
            "outputs": [],
            "source": "#One hot encoding for the fetaure \"WEATHER\"\ndf['WEATHER'].replace(to_replace = ['Clear','Raining','Overcast','Snowing','Fog/Smog/Smoke','Sleet/Hail/Freezing Rain','Blowing Sand/Dirt','Severe Crosswind','Partly Cloudy'], value=[0,3,1,3,2,3,2,2,1] , inplace=True)\n"
        },
        {
            "cell_type": "code",
            "execution_count": 38,
            "metadata": {},
            "outputs": [
                {
                    "data": {
                        "text/plain": "(169957, 37)"
                    },
                    "execution_count": 38,
                    "metadata": {},
                    "output_type": "execute_result"
                }
            ],
            "source": "#Dropping the null values in the columns or features that we will use from the dataframe\ndf.dropna(subset=['ROADCOND','LIGHTCOND','WEATHER'], inplace=True)\ndf.shape"
        },
        {
            "cell_type": "code",
            "execution_count": 39,
            "metadata": {},
            "outputs": [
                {
                    "data": {
                        "text/plain": "0.0    121490\n2.0     47569\n1.0       898\nName: ROADCOND, dtype: int64"
                    },
                    "execution_count": 39,
                    "metadata": {},
                    "output_type": "execute_result"
                }
            ],
            "source": "df['ROADCOND'].value_counts()"
        },
        {
            "cell_type": "code",
            "execution_count": 40,
            "metadata": {},
            "outputs": [
                {
                    "data": {
                        "text/plain": "0.0    121490\n2.0     47569\n1.0       898\nName: ROADCOND, dtype: int64"
                    },
                    "execution_count": 40,
                    "metadata": {},
                    "output_type": "execute_result"
                }
            ],
            "source": "df['ROADCOND'].value_counts()"
        },
        {
            "cell_type": "code",
            "execution_count": 41,
            "metadata": {},
            "outputs": [
                {
                    "data": {
                        "text/plain": "(169957, 37)"
                    },
                    "execution_count": 41,
                    "metadata": {},
                    "output_type": "execute_result"
                }
            ],
            "source": "df.shape"
        },
        {
            "cell_type": "code",
            "execution_count": 42,
            "metadata": {},
            "outputs": [],
            "source": "x = df[['ROADCOND','LIGHTCOND','WEATHER']]\ny = df['SEVERITYCODE']"
        },
        {
            "cell_type": "code",
            "execution_count": 43,
            "metadata": {},
            "outputs": [
                {
                    "data": {
                        "text/plain": "(127467, 3)"
                    },
                    "execution_count": 43,
                    "metadata": {},
                    "output_type": "execute_result"
                }
            ],
            "source": "from sklearn.model_selection import train_test_split\nx_train,x_test,y_train,y_test = train_test_split(x,y)\nx_train.shape"
        },
        {
            "cell_type": "code",
            "execution_count": 44,
            "metadata": {},
            "outputs": [],
            "source": "from sklearn.tree import DecisionTreeClassifier\nclf = DecisionTreeClassifier(criterion='entropy')\nclf.fit(x_train, y_train)\ny_pred = clf.predict(x_test)\n"
        },
        {
            "cell_type": "code",
            "execution_count": 45,
            "metadata": {},
            "outputs": [],
            "source": "from sklearn.metrics import accuracy_score\nfrom sklearn.metrics import classification_report\nfrom sklearn.metrics import confusion_matrix"
        },
        {
            "cell_type": "code",
            "execution_count": 46,
            "metadata": {},
            "outputs": [
                {
                    "name": "stdout",
                    "output_type": "stream",
                    "text": "[[28869     0]\n [13621     0]]\n              precision    recall  f1-score   support\n\n           1       0.68      1.00      0.81     28869\n           2       0.00      0.00      0.00     13621\n\n   micro avg       0.68      0.68      0.68     42490\n   macro avg       0.34      0.50      0.40     42490\nweighted avg       0.46      0.68      0.55     42490\n\n0.6794304542245234\n"
                }
            ],
            "source": "conf_mat = confusion_matrix(y_test, y_pred)\nprint(conf_mat)\nprint(classification_report(y_test, y_pred))\nprint(accuracy_score(y_test, y_pred))"
        },
        {
            "cell_type": "code",
            "execution_count": 47,
            "metadata": {},
            "outputs": [],
            "source": "from sklearn.ensemble import RandomForestClassifier\nrfc = RandomForestClassifier()\nrfc.fit(x_train, y_train)\ny_pred = rfc.predict(x_test)"
        },
        {
            "cell_type": "code",
            "execution_count": 48,
            "metadata": {},
            "outputs": [
                {
                    "name": "stdout",
                    "output_type": "stream",
                    "text": "[[28869     0]\n [13621     0]]\n              precision    recall  f1-score   support\n\n           1       0.68      1.00      0.81     28869\n           2       0.00      0.00      0.00     13621\n\n   micro avg       0.68      0.68      0.68     42490\n   macro avg       0.34      0.50      0.40     42490\nweighted avg       0.46      0.68      0.55     42490\n\n0.6794304542245234\n"
                }
            ],
            "source": "conf_rfc = confusion_matrix(y_test, y_pred)\nprint(conf_rfc)\nprint(classification_report(y_test, y_pred))\nprint(accuracy_score(y_test, y_pred))"
        },
        {
            "cell_type": "code",
            "execution_count": 49,
            "metadata": {},
            "outputs": [],
            "source": "from sklearn.linear_model import LogisticRegression\nlr = LogisticRegression()\nlr.fit(x_train, y_train)\ny_pred = lr.predict(x_test)"
        },
        {
            "cell_type": "code",
            "execution_count": 50,
            "metadata": {},
            "outputs": [
                {
                    "name": "stdout",
                    "output_type": "stream",
                    "text": "[[28869     0]\n [13621     0]]\n              precision    recall  f1-score   support\n\n           1       0.68      1.00      0.81     28869\n           2       0.00      0.00      0.00     13621\n\n   micro avg       0.68      0.68      0.68     42490\n   macro avg       0.34      0.50      0.40     42490\nweighted avg       0.46      0.68      0.55     42490\n\n0.6794304542245234\n"
                }
            ],
            "source": "conf_lr = confusion_matrix(y_test, y_pred)\nprint(conf_lr)\nprint(classification_report(y_test, y_pred))\nprint(accuracy_score(y_test, y_pred))"
        },
        {
            "cell_type": "code",
            "execution_count": 51,
            "metadata": {},
            "outputs": [],
            "source": "from sklearn.svm import SVC\nclf_svm = SVC(kernel='rbf')\nclf_svm.fit(x_train,y_train)\ny_pred = clf_svm.predict(x_test)"
        },
        {
            "cell_type": "code",
            "execution_count": 52,
            "metadata": {},
            "outputs": [
                {
                    "name": "stdout",
                    "output_type": "stream",
                    "text": "[[28869     0]\n [13621     0]]\n              precision    recall  f1-score   support\n\n           1       0.68      1.00      0.81     28869\n           2       0.00      0.00      0.00     13621\n\n   micro avg       0.68      0.68      0.68     42490\n   macro avg       0.34      0.50      0.40     42490\nweighted avg       0.46      0.68      0.55     42490\n\n0.6794304542245234\n"
                }
            ],
            "source": "conf_svm = confusion_matrix(y_test, y_pred)\nprint(conf_svm)\nprint(classification_report(y_test, y_pred))\nprint(accuracy_score(y_test, y_pred))"
        },
        {
            "cell_type": "code",
            "execution_count": 53,
            "metadata": {},
            "outputs": [
                {
                    "data": {
                        "text/plain": "array([0.65740174, 0.65740174, 0.65740174, 0.65740174, 0.65740174,\n       0.65740174, 0.65740174, 0.65740174, 0.65740174, 0.65740174,\n       0.65740174])"
                    },
                    "execution_count": 53,
                    "metadata": {},
                    "output_type": "execute_result"
                }
            ],
            "source": "from sklearn.neighbors import KNeighborsClassifier\nk = 12\nscores = np.zeros((k-1))\nfor n in range(1,k):\n    clf_knn = KNeighborsClassifier()\n    clf_knn.fit(x_train, y_train)\n    y_pred = clf_knn.predict(x_test)\n    scores[n-1] = accuracy_score(y_pred, y_test)\nscores"
        },
        {
            "cell_type": "code",
            "execution_count": 54,
            "metadata": {},
            "outputs": [
                {
                    "data": {
                        "image/png": "[encoded data removed]",
                        "text/plain": "<Figure size 432x288 with 1 Axes>"
                    },
                    "metadata": {
                        "needs_background": "light"
                    },
                    "output_type": "display_data"
                }
            ],
            "source": "plt.plot(range(1,k),scores)\nplt.xlabel('K')\nplt.ylabel('Accuracy')\nplt.show()"
        },
        {
            "cell_type": "code",
            "execution_count": 55,
            "metadata": {},
            "outputs": [
                {
                    "name": "stdout",
                    "output_type": "stream",
                    "text": "The best k = 1\n"
                }
            ],
            "source": "print(\"The best k =\", scores.argmax()+1 )"
        },
        {
            "cell_type": "code",
            "execution_count": 56,
            "metadata": {},
            "outputs": [],
            "source": "clf_knn = KNeighborsClassifier(n_neighbors= scores.argmax()+1)\nclf_knn.fit(x_train, y_train)\ny_pred = clf_knn.predict(x_test)"
        },
        {
            "cell_type": "code",
            "execution_count": 57,
            "metadata": {},
            "outputs": [
                {
                    "name": "stdout",
                    "output_type": "stream",
                    "text": "[[28869     0]\n [13621     0]]\n              precision    recall  f1-score   support\n\n           1       0.67      0.82      0.74     28869\n           2       0.29      0.15      0.20     13621\n\n   micro avg       0.61      0.61      0.61     42490\n   macro avg       0.48      0.49      0.47     42490\nweighted avg       0.55      0.61      0.57     42490\n\n0.6064485761355614\n"
                }
            ],
            "source": "conf_knn = confusion_matrix(y_test, y_pred)\nprint(conf_rfc)\nprint(classification_report(y_test, y_pred))\nprint(accuracy_score(y_test, y_pred))"
        },
        {
            "cell_type": "markdown",
            "metadata": {},
            "source": "### Here we will balance the data and then build our models as done with the imbalanced data in the above section"
        },
        {
            "cell_type": "code",
            "execution_count": 58,
            "metadata": {},
            "outputs": [],
            "source": "df_test = pd.read_csv('https://s3.us.cloud-object-storage.appdomain.cloud/cf-courses-data/CognitiveClass/DP0701EN/version-2/Data-Collisions.csv')"
        },
        {
            "cell_type": "code",
            "execution_count": 59,
            "metadata": {},
            "outputs": [
                {
                    "data": {
                        "text/html": "<div>\n<style scoped>\n    .dataframe tbody tr th:only-of-type {\n        vertical-align: middle;\n    }\n\n    .dataframe tbody tr th {\n        vertical-align: top;\n    }\n\n    .dataframe thead th {\n        text-align: right;\n    }\n</style>\n<table border=\"1\" class=\"dataframe\">\n  <thead>\n    <tr style=\"text-align: right;\">\n      <th></th>\n      <th>SEVERITYCODE</th>\n      <th>X</th>\n      <th>Y</th>\n      <th>OBJECTID</th>\n      <th>INCKEY</th>\n      <th>COLDETKEY</th>\n      <th>REPORTNO</th>\n      <th>STATUS</th>\n      <th>ADDRTYPE</th>\n      <th>INTKEY</th>\n      <th>...</th>\n      <th>ROADCOND</th>\n      <th>LIGHTCOND</th>\n      <th>PEDROWNOTGRNT</th>\n      <th>SDOTCOLNUM</th>\n      <th>SPEEDING</th>\n      <th>ST_COLCODE</th>\n      <th>ST_COLDESC</th>\n      <th>SEGLANEKEY</th>\n      <th>CROSSWALKKEY</th>\n      <th>HITPARKEDCAR</th>\n    </tr>\n  </thead>\n  <tbody>\n    <tr>\n      <th>0</th>\n      <td>2</td>\n      <td>-122.323148</td>\n      <td>47.703140</td>\n      <td>1</td>\n      <td>1307</td>\n      <td>1307</td>\n      <td>3502005</td>\n      <td>Matched</td>\n      <td>Intersection</td>\n      <td>37475.0</td>\n      <td>...</td>\n      <td>Wet</td>\n      <td>Daylight</td>\n      <td>NaN</td>\n      <td>NaN</td>\n      <td>NaN</td>\n      <td>10</td>\n      <td>Entering at angle</td>\n      <td>0</td>\n      <td>0</td>\n      <td>N</td>\n    </tr>\n    <tr>\n      <th>1</th>\n      <td>1</td>\n      <td>-122.347294</td>\n      <td>47.647172</td>\n      <td>2</td>\n      <td>52200</td>\n      <td>52200</td>\n      <td>2607959</td>\n      <td>Matched</td>\n      <td>Block</td>\n      <td>NaN</td>\n      <td>...</td>\n      <td>Wet</td>\n      <td>Dark - Street Lights On</td>\n      <td>NaN</td>\n      <td>6354039.0</td>\n      <td>NaN</td>\n      <td>11</td>\n      <td>From same direction - both going straight - bo...</td>\n      <td>0</td>\n      <td>0</td>\n      <td>N</td>\n    </tr>\n    <tr>\n      <th>2</th>\n      <td>1</td>\n      <td>-122.334540</td>\n      <td>47.607871</td>\n      <td>3</td>\n      <td>26700</td>\n      <td>26700</td>\n      <td>1482393</td>\n      <td>Matched</td>\n      <td>Block</td>\n      <td>NaN</td>\n      <td>...</td>\n      <td>Dry</td>\n      <td>Daylight</td>\n      <td>NaN</td>\n      <td>4323031.0</td>\n      <td>NaN</td>\n      <td>32</td>\n      <td>One parked--one moving</td>\n      <td>0</td>\n      <td>0</td>\n      <td>N</td>\n    </tr>\n    <tr>\n      <th>3</th>\n      <td>1</td>\n      <td>-122.334803</td>\n      <td>47.604803</td>\n      <td>4</td>\n      <td>1144</td>\n      <td>1144</td>\n      <td>3503937</td>\n      <td>Matched</td>\n      <td>Block</td>\n      <td>NaN</td>\n      <td>...</td>\n      <td>Dry</td>\n      <td>Daylight</td>\n      <td>NaN</td>\n      <td>NaN</td>\n      <td>NaN</td>\n      <td>23</td>\n      <td>From same direction - all others</td>\n      <td>0</td>\n      <td>0</td>\n      <td>N</td>\n    </tr>\n    <tr>\n      <th>4</th>\n      <td>2</td>\n      <td>-122.306426</td>\n      <td>47.545739</td>\n      <td>5</td>\n      <td>17700</td>\n      <td>17700</td>\n      <td>1807429</td>\n      <td>Matched</td>\n      <td>Intersection</td>\n      <td>34387.0</td>\n      <td>...</td>\n      <td>Wet</td>\n      <td>Daylight</td>\n      <td>NaN</td>\n      <td>4028032.0</td>\n      <td>NaN</td>\n      <td>10</td>\n      <td>Entering at angle</td>\n      <td>0</td>\n      <td>0</td>\n      <td>N</td>\n    </tr>\n  </tbody>\n</table>\n<p>5 rows \u00d7 38 columns</p>\n</div>",
                        "text/plain": "   SEVERITYCODE           X          Y  OBJECTID  INCKEY  COLDETKEY REPORTNO  \\\n0             2 -122.323148  47.703140         1    1307       1307  3502005   \n1             1 -122.347294  47.647172         2   52200      52200  2607959   \n2             1 -122.334540  47.607871         3   26700      26700  1482393   \n3             1 -122.334803  47.604803         4    1144       1144  3503937   \n4             2 -122.306426  47.545739         5   17700      17700  1807429   \n\n    STATUS      ADDRTYPE   INTKEY  ... ROADCOND                LIGHTCOND  \\\n0  Matched  Intersection  37475.0  ...      Wet                 Daylight   \n1  Matched         Block      NaN  ...      Wet  Dark - Street Lights On   \n2  Matched         Block      NaN  ...      Dry                 Daylight   \n3  Matched         Block      NaN  ...      Dry                 Daylight   \n4  Matched  Intersection  34387.0  ...      Wet                 Daylight   \n\n  PEDROWNOTGRNT  SDOTCOLNUM SPEEDING ST_COLCODE  \\\n0           NaN         NaN      NaN         10   \n1           NaN   6354039.0      NaN         11   \n2           NaN   4323031.0      NaN         32   \n3           NaN         NaN      NaN         23   \n4           NaN   4028032.0      NaN         10   \n\n                                          ST_COLDESC  SEGLANEKEY  \\\n0                                  Entering at angle           0   \n1  From same direction - both going straight - bo...           0   \n2                             One parked--one moving           0   \n3                   From same direction - all others           0   \n4                                  Entering at angle           0   \n\n   CROSSWALKKEY  HITPARKEDCAR  \n0             0             N  \n1             0             N  \n2             0             N  \n3             0             N  \n4             0             N  \n\n[5 rows x 38 columns]"
                    },
                    "execution_count": 59,
                    "metadata": {},
                    "output_type": "execute_result"
                }
            ],
            "source": "df_test.head()"
        },
        {
            "cell_type": "code",
            "execution_count": 60,
            "metadata": {},
            "outputs": [
                {
                    "data": {
                        "text/html": "<div>\n<style scoped>\n    .dataframe tbody tr th:only-of-type {\n        vertical-align: middle;\n    }\n\n    .dataframe tbody tr th {\n        vertical-align: top;\n    }\n\n    .dataframe thead th {\n        text-align: right;\n    }\n</style>\n<table border=\"1\" class=\"dataframe\">\n  <thead>\n    <tr style=\"text-align: right;\">\n      <th></th>\n      <th>SEVERITYCODE</th>\n      <th>ROADCOND</th>\n      <th>LIGHTCOND</th>\n      <th>WEATHER</th>\n    </tr>\n  </thead>\n  <tbody>\n    <tr>\n      <th>0</th>\n      <td>2</td>\n      <td>Wet</td>\n      <td>Daylight</td>\n      <td>Overcast</td>\n    </tr>\n    <tr>\n      <th>1</th>\n      <td>1</td>\n      <td>Wet</td>\n      <td>Dark - Street Lights On</td>\n      <td>Raining</td>\n    </tr>\n    <tr>\n      <th>2</th>\n      <td>1</td>\n      <td>Dry</td>\n      <td>Daylight</td>\n      <td>Overcast</td>\n    </tr>\n    <tr>\n      <th>3</th>\n      <td>1</td>\n      <td>Dry</td>\n      <td>Daylight</td>\n      <td>Clear</td>\n    </tr>\n    <tr>\n      <th>4</th>\n      <td>2</td>\n      <td>Wet</td>\n      <td>Daylight</td>\n      <td>Raining</td>\n    </tr>\n  </tbody>\n</table>\n</div>",
                        "text/plain": "   SEVERITYCODE ROADCOND                LIGHTCOND   WEATHER\n0             2      Wet                 Daylight  Overcast\n1             1      Wet  Dark - Street Lights On   Raining\n2             1      Dry                 Daylight  Overcast\n3             1      Dry                 Daylight     Clear\n4             2      Wet                 Daylight   Raining"
                    },
                    "execution_count": 60,
                    "metadata": {},
                    "output_type": "execute_result"
                }
            ],
            "source": "test1 = ['SEVERITYCODE','ROADCOND','LIGHTCOND','WEATHER']\ndf_test1 = df_test[test1]\ndf_test1.head()"
        },
        {
            "cell_type": "code",
            "execution_count": 61,
            "metadata": {},
            "outputs": [
                {
                    "data": {
                        "text/plain": "(194673, 4)"
                    },
                    "execution_count": 61,
                    "metadata": {},
                    "output_type": "execute_result"
                }
            ],
            "source": "df_test1.shape"
        },
        {
            "cell_type": "code",
            "execution_count": 62,
            "metadata": {},
            "outputs": [
                {
                    "data": {
                        "text/plain": "1    136485\n2     58188\nName: SEVERITYCODE, dtype: int64"
                    },
                    "execution_count": 62,
                    "metadata": {},
                    "output_type": "execute_result"
                }
            ],
            "source": "df_test1['SEVERITYCODE'].value_counts()"
        },
        {
            "cell_type": "code",
            "execution_count": 63,
            "metadata": {},
            "outputs": [
                {
                    "data": {
                        "text/plain": "(175216, 4)"
                    },
                    "execution_count": 63,
                    "metadata": {},
                    "output_type": "execute_result"
                }
            ],
            "source": "df_test1 = df_test1[df_test1['ROADCOND']!= 'Unknown']\ndf_test1 = df_test1[df_test1['ROADCOND']!= 'Other']\ndf_test1 = df_test1[df_test1['LIGHTCOND']!= 'Unknown']\ndf_test1 = df_test1[df_test1['LIGHTCOND']!= 'Other']\ndf_test1 = df_test1[df_test1['WEATHER']!= 'Unknown']\ndf_test1 = df_test1[df_test1['WEATHER']!= 'Other']\ndf_test1.shape"
        },
        {
            "cell_type": "code",
            "execution_count": 64,
            "metadata": {},
            "outputs": [
                {
                    "data": {
                        "text/plain": "(175216, 4)"
                    },
                    "execution_count": 64,
                    "metadata": {},
                    "output_type": "execute_result"
                }
            ],
            "source": "df_test1['LIGHTCOND'].replace('Daylight', 0, inplace=True)\ndf_test1['LIGHTCOND'].replace('Dark - Street Lights On', 1, inplace=True)\ndf_test1['LIGHTCOND'].replace('Dusk', 1, inplace=True)\ndf_test1['LIGHTCOND'].replace('Dawn', 1, inplace=True)\ndf_test1['LIGHTCOND'].replace('Dark - No Street Lights', 2, inplace=True)\ndf_test1['LIGHTCOND'].replace('Dark - Street Lights Off', 2, inplace=True)\ndf_test1['LIGHTCOND'].replace('Dark - Unknown Lighting', 2, inplace=True)\ndf_test1.shape"
        },
        {
            "cell_type": "code",
            "execution_count": 65,
            "metadata": {},
            "outputs": [],
            "source": "df_test1['ROADCOND'].replace('Dry', 0, inplace=True)\ndf_test1['ROADCOND'].replace('Wet', 2, inplace=True)\ndf_test1['ROADCOND'].replace('Ice', 2, inplace=True)\ndf_test1['ROADCOND'].replace('Snow/Slush', 1, inplace=True)\ndf_test1['ROADCOND'].replace('Standing Water', 2, inplace=True)\ndf_test1['ROADCOND'].replace('Sand/Mud/Dirt', 1, inplace=True)\ndf_test1['ROADCOND'].replace('Oil', 2, inplace=True)"
        },
        {
            "cell_type": "code",
            "execution_count": 66,
            "metadata": {},
            "outputs": [],
            "source": "df_test1['WEATHER'].replace(to_replace = ['Clear','Raining','Overcast','Snowing','Fog/Smog/Smoke','Sleet/Hail/Freezing Rain','Blowing Sand/Dirt','Severe Crosswind','Partly Cloudy'], value=[0,3,1,3,2,3,2,2,1] , inplace=True)"
        },
        {
            "cell_type": "code",
            "execution_count": 67,
            "metadata": {},
            "outputs": [
                {
                    "data": {
                        "text/html": "<div>\n<style scoped>\n    .dataframe tbody tr th:only-of-type {\n        vertical-align: middle;\n    }\n\n    .dataframe tbody tr th {\n        vertical-align: top;\n    }\n\n    .dataframe thead th {\n        text-align: right;\n    }\n</style>\n<table border=\"1\" class=\"dataframe\">\n  <thead>\n    <tr style=\"text-align: right;\">\n      <th></th>\n      <th>SEVERITYCODE</th>\n      <th>ROADCOND</th>\n      <th>LIGHTCOND</th>\n      <th>WEATHER</th>\n    </tr>\n  </thead>\n  <tbody>\n    <tr>\n      <th>0</th>\n      <td>2</td>\n      <td>2.0</td>\n      <td>0.0</td>\n      <td>1.0</td>\n    </tr>\n    <tr>\n      <th>1</th>\n      <td>1</td>\n      <td>2.0</td>\n      <td>1.0</td>\n      <td>3.0</td>\n    </tr>\n    <tr>\n      <th>2</th>\n      <td>1</td>\n      <td>0.0</td>\n      <td>0.0</td>\n      <td>1.0</td>\n    </tr>\n    <tr>\n      <th>3</th>\n      <td>1</td>\n      <td>0.0</td>\n      <td>0.0</td>\n      <td>0.0</td>\n    </tr>\n    <tr>\n      <th>4</th>\n      <td>2</td>\n      <td>2.0</td>\n      <td>0.0</td>\n      <td>3.0</td>\n    </tr>\n  </tbody>\n</table>\n</div>",
                        "text/plain": "   SEVERITYCODE  ROADCOND  LIGHTCOND  WEATHER\n0             2       2.0        0.0      1.0\n1             1       2.0        1.0      3.0\n2             1       0.0        0.0      1.0\n3             1       0.0        0.0      0.0\n4             2       2.0        0.0      3.0"
                    },
                    "execution_count": 67,
                    "metadata": {},
                    "output_type": "execute_result"
                }
            ],
            "source": "df_test1.head()"
        },
        {
            "cell_type": "code",
            "execution_count": 68,
            "metadata": {},
            "outputs": [
                {
                    "data": {
                        "text/plain": "(169957, 4)"
                    },
                    "execution_count": 68,
                    "metadata": {},
                    "output_type": "execute_result"
                }
            ],
            "source": "df_test1.dropna(subset=['ROADCOND','LIGHTCOND','WEATHER'], inplace=True)\ndf_test1.shape"
        },
        {
            "cell_type": "code",
            "execution_count": 69,
            "metadata": {},
            "outputs": [
                {
                    "data": {
                        "image/png": "[encoded data removed]",
                        "text/plain": "<Figure size 432x288 with 2 Axes>"
                    },
                    "metadata": {
                        "needs_background": "light"
                    },
                    "output_type": "display_data"
                }
            ],
            "source": "corr_mat = df_test1.corr()\nsns.heatmap(corr_mat, annot=True)\nplt.title(\"Correlation Plot\")\nplt.xlabel(\"Fig 3.1\")\nplt.show()"
        },
        {
            "cell_type": "code",
            "execution_count": 70,
            "metadata": {},
            "outputs": [
                {
                    "name": "stdout",
                    "output_type": "stream",
                    "text": "(127467, 3)\n(42490, 3)\n"
                }
            ],
            "source": "from sklearn.model_selection import train_test_split\nx = df_test1[['ROADCOND','LIGHTCOND','WEATHER']]\ny = df_test1['SEVERITYCODE']\nx_train, x_test, y_train, y_test = train_test_split(x,y)\nprint(x_train.shape)\nprint(x_test.shape)"
        },
        {
            "cell_type": "markdown",
            "metadata": {},
            "source": "### Random Under Sampling"
        },
        {
            "cell_type": "code",
            "execution_count": 71,
            "metadata": {},
            "outputs": [],
            "source": "count_class_1, count_class_2 = df_test1['SEVERITYCODE'].value_counts()\ndf_class_1 = df_test1[df_test1['SEVERITYCODE'] == 1]\ndf_class_2 = df_test1[df_test1['SEVERITYCODE'] == 2]"
        },
        {
            "cell_type": "code",
            "execution_count": 72,
            "metadata": {},
            "outputs": [
                {
                    "name": "stdout",
                    "output_type": "stream",
                    "text": "Random under-sampling:\n2    55683\n1    55683\nName: SEVERITYCODE, dtype: int64\n"
                }
            ],
            "source": "df_class_1_under = df_class_1.sample(count_class_2)\ndf_test_under = pd.concat([df_class_1_under, df_class_2], axis=0)\n\nprint('Random under-sampling:')\nprint(df_test_under['SEVERITYCODE'].value_counts())"
        },
        {
            "cell_type": "code",
            "execution_count": 73,
            "metadata": {},
            "outputs": [
                {
                    "data": {
                        "image/png": "[encoded data removed]",
                        "text/plain": "<Figure size 432x288 with 1 Axes>"
                    },
                    "metadata": {
                        "needs_background": "light"
                    },
                    "output_type": "display_data"
                }
            ],
            "source": "df_test_under['SEVERITYCODE'].value_counts().plot(kind='bar', title='Count (SEVERITYCODE)');"
        },
        {
            "cell_type": "code",
            "execution_count": 74,
            "metadata": {},
            "outputs": [
                {
                    "data": {
                        "text/plain": "(111366, 4)"
                    },
                    "execution_count": 74,
                    "metadata": {},
                    "output_type": "execute_result"
                }
            ],
            "source": "df_test_under.shape"
        },
        {
            "cell_type": "code",
            "execution_count": 75,
            "metadata": {},
            "outputs": [
                {
                    "data": {
                        "text/html": "<div>\n<style scoped>\n    .dataframe tbody tr th:only-of-type {\n        vertical-align: middle;\n    }\n\n    .dataframe tbody tr th {\n        vertical-align: top;\n    }\n\n    .dataframe thead th {\n        text-align: right;\n    }\n</style>\n<table border=\"1\" class=\"dataframe\">\n  <thead>\n    <tr style=\"text-align: right;\">\n      <th></th>\n      <th>SEVERITYCODE</th>\n      <th>ROADCOND</th>\n      <th>LIGHTCOND</th>\n      <th>WEATHER</th>\n    </tr>\n  </thead>\n  <tbody>\n    <tr>\n      <th>76025</th>\n      <td>1</td>\n      <td>2.0</td>\n      <td>1.0</td>\n      <td>0.0</td>\n    </tr>\n    <tr>\n      <th>36812</th>\n      <td>1</td>\n      <td>2.0</td>\n      <td>1.0</td>\n      <td>3.0</td>\n    </tr>\n    <tr>\n      <th>151343</th>\n      <td>1</td>\n      <td>0.0</td>\n      <td>1.0</td>\n      <td>0.0</td>\n    </tr>\n    <tr>\n      <th>80586</th>\n      <td>1</td>\n      <td>2.0</td>\n      <td>1.0</td>\n      <td>3.0</td>\n    </tr>\n    <tr>\n      <th>62665</th>\n      <td>1</td>\n      <td>0.0</td>\n      <td>0.0</td>\n      <td>0.0</td>\n    </tr>\n  </tbody>\n</table>\n</div>",
                        "text/plain": "        SEVERITYCODE  ROADCOND  LIGHTCOND  WEATHER\n76025              1       2.0        1.0      0.0\n36812              1       2.0        1.0      3.0\n151343             1       0.0        1.0      0.0\n80586              1       2.0        1.0      3.0\n62665              1       0.0        0.0      0.0"
                    },
                    "execution_count": 75,
                    "metadata": {},
                    "output_type": "execute_result"
                }
            ],
            "source": "df_test_under.head()"
        },
        {
            "cell_type": "code",
            "execution_count": 76,
            "metadata": {},
            "outputs": [
                {
                    "data": {
                        "text/html": "<div>\n<style scoped>\n    .dataframe tbody tr th:only-of-type {\n        vertical-align: middle;\n    }\n\n    .dataframe tbody tr th {\n        vertical-align: top;\n    }\n\n    .dataframe thead th {\n        text-align: right;\n    }\n</style>\n<table border=\"1\" class=\"dataframe\">\n  <thead>\n    <tr style=\"text-align: right;\">\n      <th></th>\n      <th>SEVERITYCODE</th>\n      <th>ROADCOND</th>\n      <th>LIGHTCOND</th>\n      <th>WEATHER</th>\n    </tr>\n  </thead>\n  <tbody>\n    <tr>\n      <th>28122</th>\n      <td>1</td>\n      <td>0.0</td>\n      <td>0.0</td>\n      <td>0.0</td>\n    </tr>\n    <tr>\n      <th>47745</th>\n      <td>2</td>\n      <td>2.0</td>\n      <td>1.0</td>\n      <td>3.0</td>\n    </tr>\n    <tr>\n      <th>152323</th>\n      <td>2</td>\n      <td>2.0</td>\n      <td>0.0</td>\n      <td>1.0</td>\n    </tr>\n    <tr>\n      <th>23730</th>\n      <td>1</td>\n      <td>0.0</td>\n      <td>0.0</td>\n      <td>0.0</td>\n    </tr>\n    <tr>\n      <th>54147</th>\n      <td>1</td>\n      <td>0.0</td>\n      <td>0.0</td>\n      <td>0.0</td>\n    </tr>\n  </tbody>\n</table>\n</div>",
                        "text/plain": "        SEVERITYCODE  ROADCOND  LIGHTCOND  WEATHER\n28122              1       0.0        0.0      0.0\n47745              2       2.0        1.0      3.0\n152323             2       2.0        0.0      1.0\n23730              1       0.0        0.0      0.0\n54147              1       0.0        0.0      0.0"
                    },
                    "execution_count": 76,
                    "metadata": {},
                    "output_type": "execute_result"
                }
            ],
            "source": "df_test_under = df_test_under.sample(frac=1)\ndf_test_under.head()"
        },
        {
            "cell_type": "code",
            "execution_count": 77,
            "metadata": {},
            "outputs": [
                {
                    "data": {
                        "text/plain": "2    55683\n1    55683\nName: SEVERITYCODE, dtype: int64"
                    },
                    "execution_count": 77,
                    "metadata": {},
                    "output_type": "execute_result"
                }
            ],
            "source": "df_test_under['SEVERITYCODE'].value_counts()"
        },
        {
            "cell_type": "code",
            "execution_count": 78,
            "metadata": {},
            "outputs": [],
            "source": "X = df_test_under[['ROADCOND','LIGHTCOND','WEATHER']]\nY = df_test_under['SEVERITYCODE']\nX_train, X_test, Y_train, Y_test = train_test_split(X,Y)"
        },
        {
            "cell_type": "code",
            "execution_count": 79,
            "metadata": {},
            "outputs": [
                {
                    "data": {
                        "text/plain": "(83524, 3)"
                    },
                    "execution_count": 79,
                    "metadata": {},
                    "output_type": "execute_result"
                }
            ],
            "source": "X_train.shape"
        },
        {
            "cell_type": "code",
            "execution_count": 80,
            "metadata": {},
            "outputs": [],
            "source": "#Decision Tree\nclf = DecisionTreeClassifier(criterion='entropy')\nclf.fit(X_train, Y_train)\ny_pred = clf.predict(X_test)"
        },
        {
            "cell_type": "code",
            "execution_count": 81,
            "metadata": {},
            "outputs": [
                {
                    "name": "stdout",
                    "output_type": "stream",
                    "text": "[[ 3597 10149]\n [ 3123 10973]]\n              precision    recall  f1-score   support\n\n           1       0.54      0.26      0.35     13746\n           2       0.52      0.78      0.62     14096\n\n   micro avg       0.52      0.52      0.52     27842\n   macro avg       0.53      0.52      0.49     27842\nweighted avg       0.53      0.52      0.49     27842\n\n0.5233101070325408\n"
                }
            ],
            "source": "conf_dt = confusion_matrix(Y_test, y_pred)\nprint(conf_dt)\nprint(classification_report(Y_test, y_pred))\nprint(accuracy_score(Y_test, y_pred))"
        },
        {
            "cell_type": "code",
            "execution_count": 82,
            "metadata": {},
            "outputs": [
                {
                    "data": {
                        "text/plain": "array([0.4855973 , 0.48595647, 0.48344228, 0.48556138, 0.48900941,\n       0.49296028, 0.49087709, 0.49331945, 0.49346311, 0.49482796,\n       0.49349903])"
                    },
                    "execution_count": 82,
                    "metadata": {},
                    "output_type": "execute_result"
                }
            ],
            "source": "#KNeighborsClassifier\nk=12\nscores = np.zeros((k-1))\nfor n in range(1,k):\n    clf_knn = KNeighborsClassifier(n_neighbors=n)\n    clf_knn.fit(X_train, Y_train)\n    y_pred = clf_knn.predict(X_test)\n    scores[n-1] = accuracy_score(Y_test, y_pred)\nscores"
        },
        {
            "cell_type": "code",
            "execution_count": 83,
            "metadata": {},
            "outputs": [
                {
                    "data": {
                        "image/png": "[encoded data removed]",
                        "text/plain": "<Figure size 432x288 with 1 Axes>"
                    },
                    "metadata": {
                        "needs_background": "light"
                    },
                    "output_type": "display_data"
                }
            ],
            "source": "plt.plot(range(1,k),scores)\nplt.xlabel('K')\nplt.ylabel('Accuracy')\nplt.show()"
        },
        {
            "cell_type": "code",
            "execution_count": 84,
            "metadata": {},
            "outputs": [
                {
                    "name": "stdout",
                    "output_type": "stream",
                    "text": "The best k = 10\n"
                }
            ],
            "source": "print(\"The best k =\", scores.argmax()+1 )"
        },
        {
            "cell_type": "code",
            "execution_count": 85,
            "metadata": {},
            "outputs": [],
            "source": "clf_knn = KNeighborsClassifier(n_neighbors= scores.argmax()+1)\nclf_knn.fit(X_train, Y_train)\ny_pred = clf_knn.predict(X_test)\n"
        },
        {
            "cell_type": "code",
            "execution_count": 86,
            "metadata": {},
            "outputs": [
                {
                    "name": "stdout",
                    "output_type": "stream",
                    "text": "[[11965  1781]\n [12284  1812]]\n              precision    recall  f1-score   support\n\n           1       0.49      0.87      0.63     13746\n           2       0.50      0.13      0.20     14096\n\n   micro avg       0.49      0.49      0.49     27842\n   macro avg       0.50      0.50      0.42     27842\nweighted avg       0.50      0.49      0.41     27842\n\n0.49482795776165506\n"
                }
            ],
            "source": "conf_knn = confusion_matrix(Y_test, y_pred)\nprint(conf_knn)\nprint(classification_report(Y_test, y_pred))\nprint(accuracy_score(Y_test, y_pred))"
        },
        {
            "cell_type": "code",
            "execution_count": 108,
            "metadata": {},
            "outputs": [],
            "source": "#Random forest\nrfc = RandomForestClassifier()\nrfc.fit(X_train, Y_train)\ny_pred = rfc.predict(X_test)"
        },
        {
            "cell_type": "code",
            "execution_count": 109,
            "metadata": {},
            "outputs": [
                {
                    "name": "stdout",
                    "output_type": "stream",
                    "text": "[[ 3597 10149]\n [ 3123 10973]]\n              precision    recall  f1-score   support\n\n           1       0.54      0.26      0.35     13746\n           2       0.52      0.78      0.62     14096\n\n   micro avg       0.52      0.52      0.52     27842\n   macro avg       0.53      0.52      0.49     27842\nweighted avg       0.53      0.52      0.49     27842\n\n0.5233101070325408\n"
                }
            ],
            "source": "conf_rfc = confusion_matrix(Y_test, y_pred)\nprint(conf_rfc)\nprint(classification_report(Y_test, y_pred))\nprint(accuracy_score(Y_test, y_pred))"
        },
        {
            "cell_type": "code",
            "execution_count": 89,
            "metadata": {},
            "outputs": [],
            "source": "#Support Vector Machine \nclf_svc = SVC(kernel='rbf')\nclf_svc.fit(X_train, Y_train)\ny_pred = clf_svc.predict(X_test)"
        },
        {
            "cell_type": "code",
            "execution_count": 90,
            "metadata": {},
            "outputs": [
                {
                    "name": "stdout",
                    "output_type": "stream",
                    "text": "[[ 3623 10123]\n [ 3151 10945]]\n              precision    recall  f1-score   support\n\n           1       0.53      0.26      0.35     13746\n           2       0.52      0.78      0.62     14096\n\n   micro avg       0.52      0.52      0.52     27842\n   macro avg       0.53      0.52      0.49     27842\nweighted avg       0.53      0.52      0.49     27842\n\n0.5232382731125638\n"
                }
            ],
            "source": "conf_svc = confusion_matrix(Y_test, y_pred)\nprint(conf_svc)\nprint(classification_report(Y_test, y_pred))\nprint(accuracy_score(Y_test, y_pred))"
        },
        {
            "cell_type": "markdown",
            "metadata": {},
            "source": "### Random Over Sampling"
        },
        {
            "cell_type": "code",
            "execution_count": 91,
            "metadata": {},
            "outputs": [
                {
                    "name": "stdout",
                    "output_type": "stream",
                    "text": "Random over-sampling:\n2    114274\n1    114274\nName: SEVERITYCODE, dtype: int64\n"
                }
            ],
            "source": "df_class_2_over = df_class_2.sample(count_class_1, replace=True)\ndf_test_over = pd.concat([df_class_1, df_class_2_over], axis=0)\n\nprint('Random over-sampling:')\nprint(df_test_over['SEVERITYCODE'].value_counts())"
        },
        {
            "cell_type": "code",
            "execution_count": 92,
            "metadata": {},
            "outputs": [
                {
                    "data": {
                        "image/png": "[encoded data removed]",
                        "text/plain": "<Figure size 432x288 with 1 Axes>"
                    },
                    "metadata": {
                        "needs_background": "light"
                    },
                    "output_type": "display_data"
                }
            ],
            "source": "df_test_over['SEVERITYCODE'].value_counts().plot(kind='bar', title='Count (SEVERITYCODE)');"
        },
        {
            "cell_type": "code",
            "execution_count": 93,
            "metadata": {},
            "outputs": [
                {
                    "data": {
                        "text/plain": "2    114274\n1    114274\nName: SEVERITYCODE, dtype: int64"
                    },
                    "execution_count": 93,
                    "metadata": {},
                    "output_type": "execute_result"
                }
            ],
            "source": "df_test_over['SEVERITYCODE'].value_counts()"
        },
        {
            "cell_type": "code",
            "execution_count": 94,
            "metadata": {},
            "outputs": [
                {
                    "name": "stdout",
                    "output_type": "stream",
                    "text": "(171411, 3)\n(57137, 3)\n"
                }
            ],
            "source": "x_os = df_test_over[['ROADCOND','LIGHTCOND','WEATHER']]\ny_os = df_test_over['SEVERITYCODE']\nx_train, x_test, y_train, y_test = train_test_split(x_os, y_os)\nprint(x_train.shape)\nprint(x_test.shape)"
        },
        {
            "cell_type": "code",
            "execution_count": 95,
            "metadata": {},
            "outputs": [],
            "source": "#Decision Tree\nclf = DecisionTreeClassifier(criterion='entropy')\nclf.fit(x_train, y_train)\ny_pred = clf.predict(x_test)"
        },
        {
            "cell_type": "code",
            "execution_count": 96,
            "metadata": {},
            "outputs": [
                {
                    "name": "stdout",
                    "output_type": "stream",
                    "text": "[[ 7627 20951]\n [ 6469 22090]]\n              precision    recall  f1-score   support\n\n           1       0.54      0.27      0.36     28578\n           2       0.51      0.77      0.62     28559\n\n   micro avg       0.52      0.52      0.52     57137\n   macro avg       0.53      0.52      0.49     57137\nweighted avg       0.53      0.52      0.49     57137\n\n0.5201008103330591\n"
                }
            ],
            "source": "conf_dt = confusion_matrix(y_test, y_pred)\nprint(conf_dt)\nprint(classification_report(y_test, y_pred))\nprint(accuracy_score(y_test, y_pred))"
        },
        {
            "cell_type": "code",
            "execution_count": 97,
            "metadata": {},
            "outputs": [],
            "source": "#RandomForest\nrfc = RandomForestClassifier()\nrfc.fit(x_train, y_train)\ny_pred = rfc.predict(x_test)"
        },
        {
            "cell_type": "code",
            "execution_count": 98,
            "metadata": {},
            "outputs": [
                {
                    "name": "stdout",
                    "output_type": "stream",
                    "text": "[[ 7629 20949]\n [ 6469 22090]]\n              precision    recall  f1-score   support\n\n           1       0.54      0.27      0.36     28578\n           2       0.51      0.77      0.62     28559\n\n   micro avg       0.52      0.52      0.52     57137\n   macro avg       0.53      0.52      0.49     57137\nweighted avg       0.53      0.52      0.49     57137\n\n0.5201358139209269\n"
                }
            ],
            "source": "conf_rfc = confusion_matrix(y_test, y_pred)\nprint(conf_rfc)\nprint(classification_report(y_test, y_pred))\nprint(accuracy_score(y_test, y_pred))"
        },
        {
            "cell_type": "code",
            "execution_count": 99,
            "metadata": {},
            "outputs": [],
            "source": "from sklearn.linear_model import LogisticRegression\nlr = LogisticRegression()\nlr.fit(x_train, y_train)\ny_pred = lr.predict(x_test)"
        },
        {
            "cell_type": "code",
            "execution_count": 100,
            "metadata": {},
            "outputs": [
                {
                    "name": "stdout",
                    "output_type": "stream",
                    "text": "[[10065 18513]\n [ 9071 19488]]\n              precision    recall  f1-score   support\n\n           1       0.53      0.35      0.42     28578\n           2       0.51      0.68      0.59     28559\n\n   micro avg       0.52      0.52      0.52     57137\n   macro avg       0.52      0.52      0.50     57137\nweighted avg       0.52      0.52      0.50     57137\n\n0.5172305161279032\n"
                }
            ],
            "source": "conf_lr = confusion_matrix(y_test, y_pred)\nprint(conf_lr)\nprint(classification_report(y_test, y_pred))\nprint(accuracy_score(y_test, y_pred))"
        },
        {
            "cell_type": "code",
            "execution_count": 101,
            "metadata": {},
            "outputs": [
                {
                    "data": {
                        "text/plain": "array([0.50333409, 0.50476924, 0.50172393, 0.50487425, 0.50457672,\n       0.50455922, 0.50706197, 0.50788456, 0.50774454, 0.50765703,\n       0.50723699])"
                    },
                    "execution_count": 101,
                    "metadata": {},
                    "output_type": "execute_result"
                }
            ],
            "source": "# KNeighborsClassifier\nk=12\nscores = np.zeros((k-1))\nfor n in range(1,k):\n    clf_knn = KNeighborsClassifier(n_neighbors=n)\n    clf_knn.fit(x_train, y_train)\n    y_pred = clf_knn.predict(x_test)\n    scores[n-1] = accuracy_score(y_test, y_pred)\nscores"
        },
        {
            "cell_type": "code",
            "execution_count": 102,
            "metadata": {},
            "outputs": [
                {
                    "data": {
                        "image/png": "[encoded data removed]",
                        "text/plain": "<Figure size 432x288 with 1 Axes>"
                    },
                    "metadata": {
                        "needs_background": "light"
                    },
                    "output_type": "display_data"
                }
            ],
            "source": "plt.plot(range(1,k),scores)\nplt.xlabel('K')\nplt.ylabel('Accuracy')\nplt.show()"
        },
        {
            "cell_type": "code",
            "execution_count": 103,
            "metadata": {},
            "outputs": [
                {
                    "name": "stdout",
                    "output_type": "stream",
                    "text": "The best k = 8\n"
                }
            ],
            "source": "print(\"The best k =\", scores.argmax()+1 )"
        },
        {
            "cell_type": "code",
            "execution_count": 104,
            "metadata": {},
            "outputs": [],
            "source": "clf_knn = KNeighborsClassifier(n_neighbors= scores.argmax()+1)\nclf_knn.fit(x_train, y_train)\ny_pred = clf_knn.predict(x_test)\n"
        },
        {
            "cell_type": "code",
            "execution_count": 105,
            "metadata": {},
            "outputs": [
                {
                    "name": "stdout",
                    "output_type": "stream",
                    "text": "[[21808  6770]\n [21348  7211]]\n              precision    recall  f1-score   support\n\n           1       0.51      0.76      0.61     28578\n           2       0.52      0.25      0.34     28559\n\n   micro avg       0.51      0.51      0.51     57137\n   macro avg       0.51      0.51      0.47     57137\nweighted avg       0.51      0.51      0.47     57137\n\n0.5078845581672121\n"
                }
            ],
            "source": "conf_knn = confusion_matrix(y_test, y_pred)\nprint(conf_knn)\nprint(classification_report(y_test, y_pred))\nprint(accuracy_score(y_test, y_pred))"
        },
        {
            "cell_type": "code",
            "execution_count": null,
            "metadata": {},
            "outputs": [],
            "source": "# Support Vector Machine\nclf_svc = SVC(kernel='rbf')\nclf_svc.fit(x_train, y_train)\ny_pred = clf_svc.predict(x_test)"
        },
        {
            "cell_type": "code",
            "execution_count": null,
            "metadata": {},
            "outputs": [],
            "source": "conf_svm = confusion_matrix(y_test, y_pred)\nprint(conf_svm)\nprint(classification_report(y_test, y_pred))\nprint(accuracy_score(y_test, y_pred))"
        },
        {
            "cell_type": "markdown",
            "metadata": {},
            "source": "## Results and Discussion"
        },
        {
            "cell_type": "markdown",
            "metadata": {},
            "source": "We have built models on balanced as well as imbalanced data but we could not get accuracy greater than 70% in any case. Number of different models have been used to make our predictions. \nWhen working with unbalanced data, there were a huge amount of skewness towards the class of greater data, that is, 'SEVERITYCODE'=1. So, the models were very partial towards that class and the results were not good. \n\nTo make the data balanced, we did it in two different ways: Under Sampling and Over Sampling.\nBut after making the data balanced and building our models with the balanced data, still the accuracy of prediction was not above 55%."
        },
        {
            "cell_type": "markdown",
            "metadata": {},
            "source": "## Conclusion"
        },
        {
            "cell_type": "markdown",
            "metadata": {},
            "source": "The accuracy of models was not satisfactory in any of our case. We expected that some insight could be taken out of the data by using the features that we selected but the accuracy of models is required to be high in order to predict something with assurance. \nIf a dataset is heavily unbalanced, we need to balance it as in the unbalanced data, we saw that the predictions were bound to be partial to one class."
        }
    ],
    "metadata": {
        "kernelspec": {
            "display_name": "Python 3.6",
            "language": "python",
            "name": "python3"
        },
        "language_info": {
            "codemirror_mode": {
                "name": "ipython",
                "version": 3
            },
            "file_extension": ".py",
            "mimetype": "text/x-python",
            "name": "python",
            "nbconvert_exporter": "python",
            "pygments_lexer": "ipython3",
            "version": "3.6.9"
        }
    },
    "nbformat": 4,
    "nbformat_minor": 1
}