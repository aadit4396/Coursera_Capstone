{
    "cells": [
        {
            "cell_type": "markdown",
            "metadata": {
                "collapsed": true
            },
            "source": "# INTRODUCTION"
        },
        {
            "cell_type": "markdown",
            "metadata": {},
            "source": "There are a lot of accidents which can be avoided by making people aware of certain accident prone areas. So, to reduce the frequency of vehicle collisions, an alogorithm or a model must be developed to predict the severity of an accident given the current weather, road condtions, street lights conditions. By doing so we can alert the drivers before hand so as to be more carefull and drive accordingly if the model predicts high severity. Hence, reducing the frequency of accidents in the community and saving the lives of people. This model targets all the people in the community."
        },
        {
            "cell_type": "code",
            "execution_count": null,
            "metadata": {},
            "outputs": [],
            "source": ""
        }
    ],
    "metadata": {
        "kernelspec": {
            "display_name": "Python 3.6",
            "language": "python",
            "name": "python3"
        },
        "language_info": {
            "codemirror_mode": {
                "name": "ipython",
                "version": 3
            },
            "file_extension": ".py",
            "mimetype": "text/x-python",
            "name": "python",
            "nbconvert_exporter": "python",
            "pygments_lexer": "ipython3",
            "version": "3.6.9"
        }
    },
    "nbformat": 4,
    "nbformat_minor": 1
}