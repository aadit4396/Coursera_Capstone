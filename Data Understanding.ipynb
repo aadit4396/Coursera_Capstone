{
    "cells": [
        {
            "cell_type": "markdown",
            "metadata": {
                "collapsed": true
            },
            "source": "# DATA UNDERSTANDING"
        },
        {
            "cell_type": "markdown",
            "metadata": {},
            "source": "The dataset we will be using contains of many instances of collisions under different situations. The target variable in our dataset is severity code. The predicted value of severity code will help us determine the areas which will be more accident prone on the day. The model will predict the target with the help of features that are in the dataset. The features available are Light conditions, weather conditions, Road conditions and many more. The dataset has 37 columns or featues of which we will decide the relevant features and build our model on these features. "
        }
    ],
    "metadata": {
        "kernelspec": {
            "display_name": "Python 3.6",
            "language": "python",
            "name": "python3"
        },
        "language_info": {
            "codemirror_mode": {
                "name": "ipython",
                "version": 3
            },
            "file_extension": ".py",
            "mimetype": "text/x-python",
            "name": "python",
            "nbconvert_exporter": "python",
            "pygments_lexer": "ipython3",
            "version": "3.6.9"
        }
    },
    "nbformat": 4,
    "nbformat_minor": 1
}